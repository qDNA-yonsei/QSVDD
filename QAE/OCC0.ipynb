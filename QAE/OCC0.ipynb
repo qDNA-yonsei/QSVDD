{
 "cells": [
  {
   "cell_type": "code",
   "execution_count": 170,
   "id": "fdd59470-bc95-4722-ac8a-1b666565fb7f",
   "metadata": {
    "colab": {
     "base_uri": "https://localhost:8080/"
    },
    "executionInfo": {
     "elapsed": 7,
     "status": "ok",
     "timestamp": 1661994833348,
     "user": {
      "displayName": "Hyeondo Oh",
      "userId": "12379353032524387530"
     },
     "user_tz": -540
    },
    "id": "9ef353c4-1195-468e-ad21-92de47b57722",
    "outputId": "7be098f5-dddd-427a-9c5e-653a897169ec",
    "tags": []
   },
   "outputs": [
    {
     "name": "stdout",
     "output_type": "stream",
     "text": [
      "The autotime extension is already loaded. To reload it, use:\n",
      "  %reload_ext autotime\n",
      "time: 15 ms (started: 2023-03-30 21:48:30 +09:00)\n"
     ]
    }
   ],
   "source": [
    "# from IPython.display import display, HTML\n",
    "# display(HTML(\"<style>.container { width:80% !important; }</style>\"))\n",
    "%load_ext autotime"
   ]
  },
  {
   "cell_type": "code",
   "execution_count": 171,
   "id": "06e93596-ab97-4e78-ad85-43830be21ff4",
   "metadata": {
    "colab": {
     "base_uri": "https://localhost:8080/"
    },
    "executionInfo": {
     "elapsed": 4936,
     "status": "ok",
     "timestamp": 1661994838279,
     "user": {
      "displayName": "Hyeondo Oh",
      "userId": "12379353032524387530"
     },
     "user_tz": -540
    },
    "id": "5312c41c",
    "outputId": "2f726a07-339e-4e2a-c852-eb0832942a5e",
    "scrolled": true
   },
   "outputs": [
    {
     "name": "stdout",
     "output_type": "stream",
     "text": [
      "time: 0 ns (started: 2023-03-30 21:48:30 +09:00)\n"
     ]
    }
   ],
   "source": [
    "import numpy as np\n",
    "import math\n",
    "import tensorflow as tf\n",
    "from sklearn.decomposition import PCA\n",
    "from tensorflow.keras.models import Model\n",
    "from tensorflow.keras import layers, losses\n",
    "import torch\n",
    "import torch.nn as nn\n",
    "from matplotlib import pyplot as plt\n",
    "from numpy import savetxt\n",
    "import pennylane as qml\n",
    "import random"
   ]
  },
  {
   "cell_type": "markdown",
   "id": "29ff9b9b",
   "metadata": {
    "tags": []
   },
   "source": [
    "# Data Preparation"
   ]
  },
  {
   "cell_type": "code",
   "execution_count": 174,
   "id": "1ef61770-e578-435b-874e-ac5b6e9b6e92",
   "metadata": {},
   "outputs": [
    {
     "name": "stdout",
     "output_type": "stream",
     "text": [
      "time: 0 ns (started: 2023-03-30 21:48:30 +09:00)\n"
     ]
    }
   ],
   "source": [
    "ntrain = 0 ; latent_dim = 15"
   ]
  },
  {
   "cell_type": "code",
   "execution_count": 175,
   "id": "83d0fafe-3147-4420-ac9a-563075ad46cc",
   "metadata": {},
   "outputs": [
    {
     "name": "stdout",
     "output_type": "stream",
     "text": [
      "time: 0 ns (started: 2023-03-30 21:48:30 +09:00)\n"
     ]
    }
   ],
   "source": [
    "def data(ntrain, latent_dim):\n",
    "    (x_train, y_train), (x_test, y_test) = tf.keras.datasets.mnist.load_data()\n",
    "    \n",
    "    x_train, x_test = x_train[..., np.newaxis] / 255.0, x_test[..., np.newaxis] / 255.0  # normalize the data\n",
    "    x_train_filter = np.where(y_train == ntrain)\n",
    "    x_test_filter = np.where(y_test == ntrain)\n",
    "\n",
    "    X_train = x_train[x_train_filter]\n",
    "    X_test = x_test[x_test_filter]\n",
    "    Y_train = y_train[x_train_filter]\n",
    "    Y_test = y_test[x_test_filter]\n",
    "\n",
    "    X_train = tf.image.resize(X_train[:], (256, 1)).numpy()\n",
    "    X_test = tf.image.resize(X_test[:], (256, 1)).numpy()\n",
    "    X_train, X_test = tf.squeeze(X_train).numpy(), tf.squeeze(X_test).numpy()\n",
    "    \n",
    "    x_train = tf.image.resize(x_train[:], (256, 1)).numpy()\n",
    "    x_test = tf.image.resize(x_test[:], (256, 1)).numpy()\n",
    "    x_train, x_test = tf.squeeze(x_train).numpy(), tf.squeeze(x_test).numpy()\n",
    "    \n",
    "    center = qml.numpy.zeros(latent_dim, requires_grad=True)\n",
    "    center_train = np.tile(center,(len(X_train),1))\n",
    "\n",
    "    return x_train, y_train, x_test, y_test, X_train, X_test, Y_train, Y_test, center_train\n",
    "    print('x_train:',x_train.shape)\n",
    "    print('x_test:',x_test.shape)\n",
    "    print('X_train:',X_train.shape)\n",
    "    print('X_test:',X_test.shape)"
   ]
  },
  {
   "cell_type": "code",
   "execution_count": 176,
   "id": "cd9bd6a7-e340-4387-a057-fb44ef145036",
   "metadata": {},
   "outputs": [
    {
     "name": "stdout",
     "output_type": "stream",
     "text": [
      "time: 438 ms (started: 2023-03-30 21:48:30 +09:00)\n"
     ]
    }
   ],
   "source": [
    "x_train, y_train, x_test, y_test, X_train, X_test, Y_train, Y_test, center_train = data(ntrain, latent_dim)"
   ]
  },
  {
   "cell_type": "markdown",
   "id": "b00b975f-0c2f-4727-9a5f-e7714d16f916",
   "metadata": {},
   "source": [
    "# Training"
   ]
  },
  {
   "cell_type": "code",
   "execution_count": 177,
   "id": "HSNGKiOlGjAL",
   "metadata": {
    "colab": {
     "base_uri": "https://localhost:8080/"
    },
    "executionInfo": {
     "elapsed": 303,
     "status": "ok",
     "timestamp": 1661994924072,
     "user": {
      "displayName": "Hyeondo Oh",
      "userId": "12379353032524387530"
     },
     "user_tz": -540
    },
    "id": "HSNGKiOlGjAL",
    "outputId": "09908e2c-d84e-4e2f-cc28-e6fff4513105"
   },
   "outputs": [
    {
     "name": "stdout",
     "output_type": "stream",
     "text": [
      "time: 15 ms (started: 2023-03-30 21:48:30 +09:00)\n"
     ]
    }
   ],
   "source": [
    "import os\n",
    "\n",
    "# Change the current working directory to the desired directory\n",
    "os.chdir('C:/Users/user1/Quantum/qsvdd_VQOCC/code')\n",
    "\n",
    "%run ./Angular_hybrid.py\n",
    "%run ./unitary.py\n",
    "%run ./embedding.py\n",
    "%run ./QCNN_circuit.py\n",
    "%run ./Training.py"
   ]
  },
  {
   "cell_type": "code",
   "execution_count": 178,
   "id": "kwuTVY0sGjAM",
   "metadata": {
    "colab": {
     "base_uri": "https://localhost:8080/"
    },
    "executionInfo": {
     "elapsed": 1287142,
     "status": "ok",
     "timestamp": 1662003277876,
     "user": {
      "displayName": "Hyeondo Oh",
      "userId": "12379353032524387530"
     },
     "user_tz": -540
    },
    "id": "kwuTVY0sGjAM",
    "outputId": "6bc4a3c6-6306-4c3a-d83f-6bace10c7ad0",
    "scrolled": true
   },
   "outputs": [
    {
     "name": "stdout",
     "output_type": "stream",
     "text": [
      "iteration:  0  cost:  0.34060024882497253\n",
      "iteration:  5  cost:  0.27309835219645173\n",
      "iteration:  10  cost:  0.20100439633917916\n",
      "iteration:  15  cost:  0.1919843269827974\n",
      "iteration:  20  cost:  0.17809399179507726\n",
      "iteration:  25  cost:  0.1314971802611249\n",
      "iteration:  30  cost:  0.14013912961396208\n",
      "iteration:  35  cost:  0.06712010290092058\n",
      "iteration:  40  cost:  0.08219840396695023\n",
      "iteration:  45  cost:  -0.005765672042927328\n",
      "iteration:  50  cost:  0.08231231539455261\n",
      "iteration:  55  cost:  0.10606972425386159\n",
      "iteration:  60  cost:  0.02496390301909882\n",
      "iteration:  65  cost:  0.006148713917636179\n",
      "iteration:  70  cost:  -0.12473428818126672\n",
      "iteration:  75  cost:  -0.008148413528650925\n",
      "iteration:  80  cost:  -0.13656062788303938\n",
      "iteration:  85  cost:  -0.1345608187228348\n",
      "iteration:  90  cost:  -0.12942079858721997\n",
      "iteration:  95  cost:  -0.1201259839857512\n",
      "iteration:  100  cost:  -0.12024266128997939\n",
      "iteration:  105  cost:  -0.16931525647757215\n",
      "iteration:  110  cost:  -0.0929322906014099\n",
      "iteration:  115  cost:  -0.20100722729948342\n",
      "iteration:  120  cost:  -0.26526292522194517\n",
      "iteration:  125  cost:  -0.24104059519076537\n",
      "iteration:  130  cost:  -0.19547737147970598\n",
      "iteration:  135  cost:  -0.26679767396437404\n",
      "iteration:  140  cost:  -0.24636226995459018\n",
      "iteration:  145  cost:  -0.23123274337961888\n",
      "iteration:  150  cost:  -0.38195493611607106\n",
      "iteration:  155  cost:  -0.359095230416282\n",
      "iteration:  160  cost:  -0.3822256284752336\n",
      "iteration:  165  cost:  -0.38044041890802704\n",
      "iteration:  170  cost:  -0.4673526207616151\n",
      "iteration:  175  cost:  -0.44228095767016673\n",
      "iteration:  180  cost:  -0.34613865116892883\n",
      "iteration:  185  cost:  -0.5306010855154812\n",
      "iteration:  190  cost:  -0.44095744040156626\n",
      "iteration:  195  cost:  -0.5041930892181891\n",
      "iteration:  200  cost:  -0.41383425210196834\n",
      "iteration:  205  cost:  -0.5869686344086984\n",
      "iteration:  210  cost:  -0.5236586494478879\n",
      "iteration:  215  cost:  -0.5881265974030742\n",
      "iteration:  220  cost:  -0.5172466607712389\n",
      "iteration:  225  cost:  -0.5907565355206049\n",
      "iteration:  230  cost:  -0.5968133735736393\n",
      "iteration:  235  cost:  -0.6778845677520772\n",
      "iteration:  240  cost:  -0.5945925297460178\n",
      "iteration:  245  cost:  -0.5677253650413877\n",
      "iteration:  250  cost:  -0.6530363437015222\n",
      "iteration:  255  cost:  -0.5695659861540235\n",
      "iteration:  260  cost:  -0.649142904855732\n",
      "iteration:  265  cost:  -0.5964955039907025\n",
      "iteration:  270  cost:  -0.7297181887928427\n",
      "iteration:  275  cost:  -0.6943867197175112\n",
      "iteration:  280  cost:  -0.6255139174598245\n",
      "iteration:  285  cost:  -0.7826273173948941\n",
      "iteration:  290  cost:  -0.6579458958199147\n",
      "iteration:  295  cost:  -0.856994553118472\n",
      "iteration:  300  cost:  -0.6233852392587503\n",
      "iteration:  305  cost:  -0.7292838776826708\n",
      "iteration:  310  cost:  -0.7237150992524986\n",
      "iteration:  315  cost:  -0.6722490310284854\n",
      "iteration:  320  cost:  -0.722407358073636\n",
      "iteration:  325  cost:  -0.7651389437770566\n",
      "iteration:  330  cost:  -0.8243525872633979\n",
      "iteration:  335  cost:  -0.7574517563035775\n",
      "iteration:  340  cost:  -0.6364526483365321\n",
      "iteration:  345  cost:  -0.7829783212205963\n",
      "iteration:  350  cost:  -0.7537345751869785\n",
      "iteration:  355  cost:  -0.6980201466684801\n",
      "iteration:  360  cost:  -0.7387822569344717\n",
      "iteration:  365  cost:  -0.6681892033551847\n",
      "iteration:  370  cost:  -0.7457822902276551\n",
      "iteration:  375  cost:  -0.7385604908581332\n",
      "iteration:  380  cost:  -0.8332166789749852\n",
      "iteration:  385  cost:  -0.7400908566307838\n",
      "iteration:  390  cost:  -0.8312781851214764\n",
      "iteration:  395  cost:  -0.7429032349777979\n",
      "iteration:  400  cost:  -0.7673212370166981\n",
      "iteration:  405  cost:  -0.7276713754549086\n",
      "iteration:  410  cost:  -0.8673976485997841\n",
      "iteration:  415  cost:  -0.6432914668887073\n",
      "iteration:  420  cost:  -0.7284088471224135\n",
      "iteration:  425  cost:  -0.6987788139180992\n",
      "iteration:  430  cost:  -0.8051295690447482\n",
      "iteration:  435  cost:  -0.8387046735332244\n",
      "iteration:  440  cost:  -0.7988947320391531\n",
      "iteration:  445  cost:  -0.8509628997948961\n",
      "iteration:  450  cost:  -0.7540277569090584\n",
      "iteration:  455  cost:  -0.7979936125010195\n",
      "iteration:  460  cost:  -0.797776004954368\n",
      "iteration:  465  cost:  -0.7839268275798883\n",
      "iteration:  470  cost:  -0.6088000701777837\n",
      "iteration:  475  cost:  -0.8244962064966423\n",
      "iteration:  480  cost:  -0.7193074388486036\n",
      "iteration:  485  cost:  -0.6613792918012987\n",
      "iteration:  490  cost:  -0.6602560833143607\n",
      "iteration:  495  cost:  -0.6278877184556118\n",
      "iteration:  500  cost:  -0.76399238060763\n",
      "iteration:  505  cost:  -0.8092061998605632\n",
      "iteration:  510  cost:  -0.7781728800699156\n",
      "iteration:  515  cost:  -0.6615454418142468\n",
      "iteration:  520  cost:  -0.8601118384826197\n",
      "iteration:  525  cost:  -0.7725896870837745\n",
      "iteration:  530  cost:  -0.674120139913646\n",
      "iteration:  535  cost:  -0.5775681106625158\n",
      "iteration:  540  cost:  -0.7460250192406795\n",
      "iteration:  545  cost:  -0.7971074871840006\n",
      "iteration:  550  cost:  -0.7744279686601158\n",
      "iteration:  555  cost:  -0.8698231777571505\n",
      "iteration:  560  cost:  -0.8277541198270617\n",
      "iteration:  565  cost:  -0.7264446790476828\n",
      "iteration:  570  cost:  -0.860939733134833\n",
      "iteration:  575  cost:  -0.7329527608462422\n",
      "iteration:  580  cost:  -0.7033259639166437\n",
      "iteration:  585  cost:  -0.8481578646639439\n",
      "iteration:  590  cost:  -0.8703805643083574\n",
      "iteration:  595  cost:  -0.7214250126080158\n",
      "iteration:  600  cost:  -0.703852135636474\n",
      "iteration:  605  cost:  -0.7865739173669527\n",
      "iteration:  610  cost:  -0.7191109939356317\n",
      "iteration:  615  cost:  -0.7530491272839976\n",
      "iteration:  620  cost:  -0.87385699392897\n",
      "iteration:  625  cost:  -0.7095431747173669\n",
      "iteration:  630  cost:  -0.7809583491868897\n",
      "iteration:  635  cost:  -0.7613415997836602\n",
      "iteration:  640  cost:  -0.809258893964892\n",
      "iteration:  645  cost:  -0.9257732391260272\n",
      "iteration:  650  cost:  -0.7921747126941674\n",
      "iteration:  655  cost:  -0.8538787586551544\n",
      "iteration:  660  cost:  -0.7254620975081707\n",
      "iteration:  665  cost:  -1.0155013506369044\n",
      "iteration:  670  cost:  -0.9159518957488081\n",
      "iteration:  675  cost:  -0.894356149788782\n",
      "iteration:  680  cost:  -0.8929854686499097\n",
      "iteration:  685  cost:  -0.9283683292885743\n",
      "iteration:  690  cost:  -0.9722036546155698\n",
      "iteration:  695  cost:  -0.9727054512316438\n",
      "iteration:  700  cost:  -0.9417824516940834\n",
      "iteration:  705  cost:  -0.9302987986119978\n",
      "iteration:  710  cost:  -0.7637988276410802\n",
      "iteration:  715  cost:  -0.6760751639813395\n",
      "iteration:  720  cost:  -0.8904369885586003\n",
      "iteration:  725  cost:  -0.9236012800474469\n",
      "iteration:  730  cost:  -1.0069514135622342\n",
      "iteration:  735  cost:  -0.7568097432678055\n",
      "iteration:  740  cost:  -0.7831726024679773\n",
      "iteration:  745  cost:  -0.904446007308462\n",
      "iteration:  750  cost:  -0.8681639337634253\n",
      "iteration:  755  cost:  -0.9894189579590527\n",
      "iteration:  760  cost:  -0.8343429624438973\n",
      "iteration:  765  cost:  -0.985409720013323\n",
      "iteration:  770  cost:  -0.8745910957304307\n",
      "iteration:  775  cost:  -0.8539899007727253\n",
      "iteration:  780  cost:  -0.9728880245795225\n",
      "iteration:  785  cost:  -0.9547662982648825\n",
      "iteration:  790  cost:  -1.0363002251218068\n",
      "iteration:  795  cost:  -0.9270011851707927\n",
      "iteration:  800  cost:  -0.9507219750655707\n",
      "iteration:  805  cost:  -1.0916869809150564\n",
      "iteration:  810  cost:  -0.9427171321326082\n",
      "iteration:  815  cost:  -0.8779782941329718\n",
      "iteration:  820  cost:  -0.8329944281005996\n",
      "iteration:  825  cost:  -0.8795023445117838\n",
      "iteration:  830  cost:  -0.9981792534923858\n",
      "iteration:  835  cost:  -0.9370100728705169\n",
      "iteration:  840  cost:  -0.986884199783921\n",
      "iteration:  845  cost:  -0.7780407829755881\n",
      "iteration:  850  cost:  -0.8950896813852349\n",
      "iteration:  855  cost:  -0.8824825059263903\n",
      "iteration:  860  cost:  -0.8531353909161516\n",
      "iteration:  865  cost:  -0.8116067889191099\n",
      "iteration:  870  cost:  -0.8558308301927853\n",
      "iteration:  875  cost:  -1.011311552694448\n",
      "iteration:  880  cost:  -0.9688110951960054\n",
      "iteration:  885  cost:  -0.9740058756983212\n",
      "iteration:  890  cost:  -0.8763874210260494\n",
      "iteration:  895  cost:  -0.8609357718600247\n",
      "iteration:  900  cost:  -0.9691139737822307\n",
      "iteration:  905  cost:  -0.9553679408064545\n",
      "iteration:  910  cost:  -0.858105987199512\n",
      "iteration:  915  cost:  -0.9108690042426412\n",
      "iteration:  920  cost:  -0.7779761362771856\n",
      "iteration:  925  cost:  -0.9886264560247282\n",
      "iteration:  930  cost:  -0.8163962329497692\n",
      "iteration:  935  cost:  -1.030414685885357\n",
      "iteration:  940  cost:  -1.0234418741208375\n",
      "iteration:  945  cost:  -0.9839976192841673\n",
      "iteration:  950  cost:  -0.9521626580578678\n",
      "iteration:  955  cost:  -1.004817139618489\n",
      "iteration:  960  cost:  -0.9989569801431565\n",
      "iteration:  965  cost:  -0.881429681916747\n",
      "iteration:  970  cost:  -0.9979197113058698\n",
      "iteration:  975  cost:  -0.8823111340311433\n",
      "iteration:  980  cost:  -0.944783634225421\n",
      "iteration:  985  cost:  -1.057305901571514\n",
      "iteration:  990  cost:  -0.7764291029314802\n",
      "iteration:  995  cost:  -0.9195747346639755\n",
      "iteration:  1000  cost:  -0.8716573204335959\n",
      "iteration:  1005  cost:  -0.9207322195901614\n",
      "iteration:  1010  cost:  -0.9484561947926827\n",
      "iteration:  1015  cost:  -0.9940034216548924\n",
      "iteration:  1020  cost:  -0.8178602179426078\n",
      "iteration:  1025  cost:  -1.0528501358239262\n",
      "iteration:  1030  cost:  -1.0083365910159463\n",
      "iteration:  1035  cost:  -0.8869784197354909\n",
      "iteration:  1040  cost:  -0.9477484992909416\n",
      "iteration:  1045  cost:  -0.9920986722924098\n",
      "iteration:  1050  cost:  -0.7114399412649262\n",
      "iteration:  1055  cost:  -1.0054644744877712\n",
      "iteration:  1060  cost:  -1.0110223880240166\n",
      "iteration:  1065  cost:  -1.00034394980329\n",
      "iteration:  1070  cost:  -0.9845680358709292\n",
      "iteration:  1075  cost:  -1.0008254023435563\n",
      "iteration:  1080  cost:  -1.0538077409564046\n",
      "iteration:  1085  cost:  -0.9962356249036223\n",
      "iteration:  1090  cost:  -0.8933330341216277\n",
      "iteration:  1095  cost:  -0.9325366258275942\n",
      "iteration:  1100  cost:  -0.9578655787577672\n",
      "iteration:  1105  cost:  -1.0174814444779674\n",
      "iteration:  1110  cost:  -0.9374109348210788\n",
      "iteration:  1115  cost:  -0.9174685814917602\n",
      "iteration:  1120  cost:  -0.9601244727057164\n",
      "iteration:  1125  cost:  -1.0601706723997835\n",
      "iteration:  1130  cost:  -0.9759758496374045\n",
      "iteration:  1135  cost:  -0.9345161710758311\n",
      "iteration:  1140  cost:  -0.9857856391998043\n",
      "iteration:  1145  cost:  -0.8558289902860898\n",
      "iteration:  1150  cost:  -1.0117729190547822\n",
      "iteration:  1155  cost:  -1.0492690933554814\n",
      "iteration:  1160  cost:  -1.0170863801731067\n",
      "iteration:  1165  cost:  -0.9870924132273278\n",
      "iteration:  1170  cost:  -0.9094786671747468\n",
      "iteration:  1175  cost:  -0.9594686502903836\n",
      "iteration:  1180  cost:  -0.9679787708078911\n",
      "iteration:  1185  cost:  -1.0855608777119663\n",
      "iteration:  1190  cost:  -0.8661325586648356\n",
      "iteration:  1195  cost:  -0.9394522280290297\n",
      "iteration:  1200  cost:  -0.9318756902809675\n",
      "iteration:  1205  cost:  -0.9901742191960621\n",
      "iteration:  1210  cost:  -1.0759785712605119\n",
      "iteration:  1215  cost:  -0.8052167773929964\n",
      "iteration:  1220  cost:  -0.9937018896550135\n",
      "iteration:  1225  cost:  -0.8522284419669393\n",
      "iteration:  1230  cost:  -0.901917479999292\n",
      "iteration:  1235  cost:  -0.7072706312909811\n",
      "iteration:  1240  cost:  -0.9317284633623427\n",
      "iteration:  1245  cost:  -0.8871736602887944\n",
      "iteration:  1250  cost:  -0.8845969272562046\n",
      "iteration:  1255  cost:  -0.9110180640740012\n",
      "iteration:  1260  cost:  -0.9273839973527885\n",
      "iteration:  1265  cost:  -0.9838105024487891\n",
      "iteration:  1270  cost:  -1.0842154616030317\n",
      "iteration:  1275  cost:  -0.9666553189739366\n",
      "iteration:  1280  cost:  -1.0111356562081875\n",
      "iteration:  1285  cost:  -0.8611695848098061\n",
      "iteration:  1290  cost:  -1.002949786808925\n",
      "iteration:  1295  cost:  -0.9153419151505309\n",
      "iteration:  1300  cost:  -1.0141132913081057\n",
      "iteration:  1305  cost:  -0.9345996820998248\n",
      "iteration:  1310  cost:  -1.0594070702603007\n",
      "iteration:  1315  cost:  -1.0252992717175187\n",
      "iteration:  1320  cost:  -1.0764855569625447\n",
      "iteration:  1325  cost:  -0.9168779817461991\n",
      "iteration:  1330  cost:  -0.9203451324284275\n",
      "iteration:  1335  cost:  -0.9005374040395688\n",
      "iteration:  1340  cost:  -0.9402744340093919\n",
      "iteration:  1345  cost:  -0.8463777005576515\n",
      "iteration:  1350  cost:  -0.8490694757986038\n",
      "iteration:  1355  cost:  -0.9799629198517793\n",
      "iteration:  1360  cost:  -0.9781285380531927\n",
      "iteration:  1365  cost:  -0.963031999442771\n",
      "iteration:  1370  cost:  -1.0901882230325024\n",
      "iteration:  1375  cost:  -1.0085368016994405\n",
      "iteration:  1380  cost:  -0.9051099635474805\n",
      "iteration:  1385  cost:  -0.9399548686505046\n",
      "iteration:  1390  cost:  -1.0618826513947284\n",
      "iteration:  1395  cost:  -1.0505139438976112\n",
      "iteration:  1400  cost:  -0.8819235725656418\n",
      "iteration:  1405  cost:  -1.0162986774214469\n",
      "iteration:  1410  cost:  -1.0545553589739218\n",
      "iteration:  1415  cost:  -0.9323136049949107\n",
      "iteration:  1420  cost:  -0.9104911372964584\n",
      "iteration:  1425  cost:  -0.8415459153772307\n",
      "iteration:  1430  cost:  -0.9581944994636413\n",
      "iteration:  1435  cost:  -0.9077382410267801\n",
      "iteration:  1440  cost:  -1.0401978765985107\n",
      "iteration:  1445  cost:  -0.857965572087248\n",
      "iteration:  1450  cost:  -1.0172777704302856\n",
      "iteration:  1455  cost:  -0.8927091260381615\n",
      "iteration:  1460  cost:  -0.9622997406700847\n",
      "iteration:  1465  cost:  -1.0652013467781218\n",
      "iteration:  1470  cost:  -1.0460958534272593\n",
      "iteration:  1475  cost:  -1.0221074916007706\n",
      "iteration:  1480  cost:  -0.8960805035217035\n",
      "iteration:  1485  cost:  -0.802369846149936\n",
      "iteration:  1490  cost:  -0.787791627172703\n",
      "iteration:  1495  cost:  -1.0546117782206543\n",
      "iteration:  1500  cost:  -1.0378340767468741\n",
      "iteration:  1505  cost:  -0.8675476994414922\n",
      "iteration:  1510  cost:  -0.8788486557689068\n",
      "iteration:  1515  cost:  -0.910101039982079\n",
      "iteration:  1520  cost:  -0.9825365554316566\n",
      "iteration:  1525  cost:  -0.9304390508916575\n",
      "iteration:  1530  cost:  -1.0566287846530038\n",
      "iteration:  1535  cost:  -0.9735524336448114\n",
      "iteration:  1540  cost:  -0.8175085189564346\n",
      "iteration:  1545  cost:  -0.8366011750355853\n",
      "iteration:  1550  cost:  -0.8812223382929046\n",
      "iteration:  1555  cost:  -0.8393698936886724\n",
      "iteration:  1560  cost:  -0.8734817534737745\n",
      "iteration:  1565  cost:  -0.9375895149829191\n",
      "iteration:  1570  cost:  -0.969491342130477\n",
      "iteration:  1575  cost:  -0.8717434476271134\n",
      "iteration:  1580  cost:  -0.9631161629608799\n",
      "iteration:  1585  cost:  -1.111496505127051\n",
      "iteration:  1590  cost:  -0.9665057093255918\n",
      "iteration:  1595  cost:  -0.934215030156354\n",
      "iteration:  1600  cost:  -0.8152132079190302\n",
      "iteration:  1605  cost:  -0.8235303715609389\n",
      "iteration:  1610  cost:  -1.055220913867108\n",
      "iteration:  1615  cost:  -0.9501953111099397\n",
      "iteration:  1620  cost:  -1.0300187676293995\n",
      "iteration:  1625  cost:  -0.9488440804146103\n",
      "iteration:  1630  cost:  -0.9366511706950991\n",
      "iteration:  1635  cost:  -0.7065054268975496\n",
      "iteration:  1640  cost:  -0.9272074440289947\n",
      "iteration:  1645  cost:  -0.8788895303201922\n",
      "iteration:  1650  cost:  -0.9762666362296344\n",
      "iteration:  1655  cost:  -0.8620452325915956\n",
      "iteration:  1660  cost:  -0.8552759173776\n",
      "iteration:  1665  cost:  -1.0958971116463057\n",
      "iteration:  1670  cost:  -0.8034398541359775\n",
      "iteration:  1675  cost:  -0.9129561720380672\n",
      "iteration:  1680  cost:  -1.024758213377986\n",
      "iteration:  1685  cost:  -0.8333973331766327\n",
      "iteration:  1690  cost:  -0.860576167911717\n",
      "iteration:  1695  cost:  -1.0447305922498342\n",
      "iteration:  1700  cost:  -0.8592477005268175\n",
      "iteration:  1705  cost:  -1.0012634699814869\n",
      "iteration:  1710  cost:  -0.9601687152878104\n",
      "iteration:  1715  cost:  -0.9545426647039961\n",
      "iteration:  1720  cost:  -0.9392041405656351\n",
      "iteration:  1725  cost:  -1.0353513218899757\n",
      "iteration:  1730  cost:  -1.0146231894005033\n",
      "iteration:  1735  cost:  -0.8862579420645986\n",
      "iteration:  1740  cost:  -1.002978544657782\n",
      "iteration:  1745  cost:  -0.8537452151727702\n",
      "iteration:  1750  cost:  -1.0126738131739512\n",
      "iteration:  1755  cost:  -0.8591392231203829\n",
      "iteration:  1760  cost:  -0.7813814399782185\n",
      "iteration:  1765  cost:  -0.839901943065295\n",
      "iteration:  1770  cost:  -1.0215881774272577\n",
      "iteration:  1775  cost:  -0.8803851642049545\n",
      "iteration:  1780  cost:  -0.8860621167157443\n",
      "iteration:  1785  cost:  -0.9662366612690962\n",
      "iteration:  1790  cost:  -0.9236679398215111\n",
      "iteration:  1795  cost:  -0.9639923170645914\n",
      "iteration:  1800  cost:  -0.9948237368962779\n",
      "iteration:  1805  cost:  -0.9744226686230677\n",
      "iteration:  1810  cost:  -0.921847041654914\n",
      "iteration:  1815  cost:  -0.9642909603756199\n",
      "iteration:  1820  cost:  -1.0209161304951782\n",
      "iteration:  1825  cost:  -0.9014608931911086\n",
      "iteration:  1830  cost:  -0.8947153961691838\n",
      "iteration:  1835  cost:  -0.8519995913869014\n",
      "iteration:  1840  cost:  -0.9623368910390355\n",
      "iteration:  1845  cost:  -0.9808085917138373\n",
      "iteration:  1850  cost:  -0.8478758232007155\n",
      "iteration:  1855  cost:  -0.8770926055637196\n",
      "iteration:  1860  cost:  -0.9735753757933244\n",
      "iteration:  1865  cost:  -1.017018221649326\n",
      "iteration:  1870  cost:  -0.9217605328280074\n",
      "iteration:  1875  cost:  -0.9988031064616238\n",
      "iteration:  1880  cost:  -0.9348831894831853\n",
      "iteration:  1885  cost:  -0.9952985957623645\n",
      "iteration:  1890  cost:  -0.9314547608345896\n",
      "iteration:  1895  cost:  -1.092051974398343\n",
      "iteration:  1900  cost:  -1.0103061554707167\n",
      "iteration:  1905  cost:  -1.0586898273704524\n",
      "iteration:  1910  cost:  -0.9443091495934756\n",
      "iteration:  1915  cost:  -1.0629298500820696\n",
      "iteration:  1920  cost:  -0.8726281344097769\n",
      "iteration:  1925  cost:  -0.9529326319137774\n",
      "iteration:  1930  cost:  -0.8700301233703219\n",
      "iteration:  1935  cost:  -0.9473916549047832\n",
      "iteration:  1940  cost:  -0.998768932710136\n",
      "iteration:  1945  cost:  -1.047813031158375\n",
      "iteration:  1950  cost:  -1.0506722476496064\n",
      "iteration:  1955  cost:  -0.9000333341951098\n",
      "iteration:  1960  cost:  -1.030016038167671\n",
      "iteration:  1965  cost:  -1.0089250769437579\n",
      "iteration:  1970  cost:  -0.9008309830227734\n",
      "iteration:  1975  cost:  -0.9612100257303786\n",
      "iteration:  1980  cost:  -1.002879302989175\n",
      "iteration:  1985  cost:  -0.8456615111564184\n",
      "iteration:  1990  cost:  -0.7999980574970641\n",
      "iteration:  1995  cost:  -1.0119481151503096\n",
      "time: 1h 47min 4s (started: 2023-03-30 21:48:30 +09:00)\n"
     ]
    }
   ],
   "source": [
    "train_Xdata = X_train\n",
    "train_Ydata = center_train\n",
    "conv_filter = 'U_VQOCC'\n",
    "num_params_conv = 150\n",
    "data_encoding = 'Amplitude'\n",
    "circuit_type = 'QCNN'\n",
    "cost_func = 'qae'\n",
    "measure_basis = 'Z'\n",
    "\n",
    "loss_history, est_params, param_history = circuit_training(X_train=train_Xdata,\n",
    "                                            Y_train=train_Ydata,\n",
    "                                            U=conv_filter,\n",
    "                                            U_params=num_params_conv,\n",
    "                                            embedding_type=data_encoding,\n",
    "                                            circuit=circuit_type,\n",
    "                                            cost_fn=cost_func,\n",
    "                                            measure_axis=measure_basis)"
   ]
  },
  {
   "cell_type": "code",
   "execution_count": 179,
   "id": "1_Z-MAmSGjAM",
   "metadata": {
    "colab": {
     "base_uri": "https://localhost:8080/"
    },
    "executionInfo": {
     "elapsed": 7,
     "status": "ok",
     "timestamp": 1662003277877,
     "user": {
      "displayName": "Hyeondo Oh",
      "userId": "12379353032524387530"
     },
     "user_tz": -540
    },
    "id": "1_Z-MAmSGjAM",
    "outputId": "55eac804-4ed3-4b7d-9244-0f907fbcf2c7"
   },
   "outputs": [
    {
     "data": {
      "text/plain": [
       "tensor([-0.217408655000117, -1.296866039460454, -1.344189620717884,\n",
       "         0.476612792363457,  1.169055201633039, -0.318961334301954,\n",
       "        -0.161937215743287,  0.167685333516322, -0.757018476128779,\n",
       "        -0.131045247389559,  0.315989293227189,  1.265711041844521,\n",
       "        -0.469672659887289, -0.014779051220193,  0.831683091504298,\n",
       "        -0.639372901682437,  0.707888806358968, -0.146197327868096,\n",
       "         1.097816550102   ,  0.345606341390031,  0.427069847869689,\n",
       "         0.285283669199434, -0.871320759459493, -0.667517880737659,\n",
       "         0.480894221564788, -0.119668163112741, -0.138562744331353,\n",
       "        -1.640338491290539,  0.031826275893644, -0.944037747585883,\n",
       "        -0.776469684131006, -0.702582665546358, -0.041544819904469,\n",
       "        -1.421737199891689, -0.404578586301816, -1.363778137779484,\n",
       "        -1.188776021890558,  0.595005290398735,  1.09069312580815 ,\n",
       "        -0.094200220142559,  0.918033595057271, -0.589140241022512,\n",
       "        -0.014733382707687, -0.598957710723072, -0.678789716436679,\n",
       "         0.899824400700621,  0.63002456458136 ,  1.6335901343208  ,\n",
       "        -1.846382340050975, -0.232420534725988,  1.348408787694775,\n",
       "        -0.88020317563661 , -1.606501984712749,  0.052438983728232,\n",
       "         0.005334138879145,  0.086242505193286, -0.40464510390556 ,\n",
       "        -0.768991858569958, -0.446841086133162, -0.897892695731321,\n",
       "        -0.554071348423759,  0.2113920680609  , -0.332987007797262,\n",
       "        -0.785745277600739, -1.507185178475161, -0.839694851628396,\n",
       "        -0.549747985628496, -0.373145695914859, -0.693322126338719,\n",
       "        -1.216987421510597,  1.100462901372059,  0.935830952767645,\n",
       "         2.302103477562101,  0.828931486943192, -0.565813568599408,\n",
       "         0.498574262413583,  0.172939249228095, -0.994072865060213,\n",
       "        -1.129070659891401,  0.300133150470898,  0.925945913740421,\n",
       "        -0.356468590769572, -0.326936841018979, -0.097544443320387,\n",
       "         1.706686987225353, -2.311783229034174,  0.749595041537704,\n",
       "        -1.211082205252977,  0.115175455362454,  0.90613039120005 ,\n",
       "         0.384852420112158,  0.000344721443591,  0.17139975947748 ,\n",
       "         1.319410705534357,  0.246173000917977,  0.006937747233205,\n",
       "         0.217429707534656,  1.262032572990995, -2.162477658101725,\n",
       "         0.736457455554102, -1.845046014808643,  0.283448648223097,\n",
       "        -0.090981836511936,  0.292516249090442, -0.528860323088962,\n",
       "        -0.234561401073859,  0.368196431504091, -1.624651633668559,\n",
       "        -1.498596344803244, -1.028168946710669,  1.047085770067846,\n",
       "        -1.168035652499541, -0.605108340190086,  0.861701709832741,\n",
       "         0.635575994070414, -0.290774376163658, -1.924097609276924,\n",
       "         0.791967046812938, -0.559417326276092,  0.922971381776747,\n",
       "        -0.619583557520157,  0.984400602900362, -0.231906874182977,\n",
       "         0.780926822534759,  0.761418826509514,  0.339520082278785,\n",
       "        -1.526250923988581, -0.239513970725757,  0.263162488486807,\n",
       "        -1.420778344078085,  0.556667338549553, -1.570367284751677,\n",
       "         1.320442714530157, -1.834114584996418, -0.745664506053559,\n",
       "        -0.803793163546589,  0.027018591529202,  1.094562073400813,\n",
       "        -1.999613444418643,  0.655277412778421,  0.559937999889097,\n",
       "        -2.317031321043477,  0.661411014513658,  1.661849130896261,\n",
       "         1.654197899878151,  0.043447751338305, -2.096787376864949,\n",
       "         1.215870137667747, -0.208455187830071, -0.325878972942178], requires_grad=True)"
      ]
     },
     "execution_count": 179,
     "metadata": {},
     "output_type": "execute_result"
    },
    {
     "name": "stdout",
     "output_type": "stream",
     "text": [
      "time: 0 ns (started: 2023-03-30 23:35:35 +09:00)\n"
     ]
    }
   ],
   "source": [
    "# from pennylane import numpy as np\n",
    "# est_params = np.random.randn(45, requires_grad = True)\n",
    "est_params"
   ]
  },
  {
   "cell_type": "code",
   "execution_count": 180,
   "id": "4JBxNMoNGjAN",
   "metadata": {
    "colab": {
     "base_uri": "https://localhost:8080/",
     "height": 314
    },
    "executionInfo": {
     "elapsed": 609,
     "status": "ok",
     "timestamp": 1662003278481,
     "user": {
      "displayName": "Hyeondo Oh",
      "userId": "12379353032524387530"
     },
     "user_tz": -540
    },
    "id": "4JBxNMoNGjAN",
    "outputId": "083575ca-546d-4395-c414-4821e545fe90"
   },
   "outputs": [
    {
     "data": {
      "text/plain": [
       "Text(0.5, 1.0, 'Cost convergence')"
      ]
     },
     "execution_count": 180,
     "metadata": {},
     "output_type": "execute_result"
    },
    {
     "data": {
      "image/png": "[encoded data removed]",
      "text/plain": [
       "<Figure size 640x480 with 1 Axes>"
      ]
     },
     "metadata": {},
     "output_type": "display_data"
    },
    {
     "name": "stdout",
     "output_type": "stream",
     "text": [
      "time: 78 ms (started: 2023-03-30 23:35:35 +09:00)\n"
     ]
    }
   ],
   "source": [
    "plt.plot(loss_history)\n",
    "plt.xlabel(\"Steps\")\n",
    "plt.ylabel(\"Loss\")\n",
    "plt.title(\"Cost convergence\")\n",
    "\n",
    "# plt.savefig('./img/OCC0/qsvdd/cost_qcnn.png')"
   ]
  },
  {
   "cell_type": "code",
   "execution_count": 181,
   "id": "0YmvAhAtGjAN",
   "metadata": {
    "colab": {
     "base_uri": "https://localhost:8080/"
    },
    "executionInfo": {
     "elapsed": 5,
     "status": "ok",
     "timestamp": 1662003278481,
     "user": {
      "displayName": "Hyeondo Oh",
      "userId": "12379353032524387530"
     },
     "user_tz": -540
    },
    "id": "0YmvAhAtGjAN",
    "outputId": "7d8d62b3-fc3e-4280-b5af-93a51b51685f"
   },
   "outputs": [
    {
     "name": "stdout",
     "output_type": "stream",
     "text": [
      "time: 0 ns (started: 2023-03-30 23:35:35 +09:00)\n"
     ]
    }
   ],
   "source": [
    "# savetxt('./img/OCC0/qsvdd/param_list_qcnn',est_params.numpy(),delimiter=',')"
   ]
  },
  {
   "cell_type": "code",
   "execution_count": 182,
   "id": "p_yuE1qDGjAN",
   "metadata": {
    "colab": {
     "base_uri": "https://localhost:8080/",
     "height": 314
    },
    "executionInfo": {
     "elapsed": 577,
     "status": "ok",
     "timestamp": 1662003279055,
     "user": {
      "displayName": "Hyeondo Oh",
      "userId": "12379353032524387530"
     },
     "user_tz": -540
    },
    "id": "p_yuE1qDGjAN",
    "outputId": "30d59b9d-dbb1-475a-c08f-384e7633dc48"
   },
   "outputs": [
    {
     "data": {
      "text/plain": [
       "Text(0.5, 1.0, 'Parameter convergence')"
      ]
     },
     "execution_count": 182,
     "metadata": {},
     "output_type": "execute_result"
    },
    {
     "data": {
      "image/png": "[encoded data removed]",
      "text/plain": [
       "<Figure size 640x480 with 1 Axes>"
      ]
     },
     "metadata": {},
     "output_type": "display_data"
    },
    {
     "name": "stdout",
     "output_type": "stream",
     "text": [
      "time: 156 ms (started: 2023-03-30 23:35:35 +09:00)\n"
     ]
    }
   ],
   "source": [
    "plt.plot(param_history)\n",
    "plt.xlabel(\"Steps\")\n",
    "plt.ylabel(\"Parameter\")\n",
    "plt.title(\"Parameter convergence\")\n",
    "# plt.savefig('./img/OCC0/qsvdd/parameters_qcnn.png')"
   ]
  },
  {
   "cell_type": "markdown",
   "id": "c4a677b9-4ad5-4bb8-9113-fe7d6aa07a98",
   "metadata": {
    "id": "dD2m4yXVaP06",
    "tags": []
   },
   "source": [
    "# test"
   ]
  },
  {
   "cell_type": "code",
   "execution_count": 185,
   "id": "e17fb2e3-f7dd-4ef6-8ea0-9ae973e07808",
   "metadata": {},
   "outputs": [
    {
     "name": "stdout",
     "output_type": "stream",
     "text": [
      "time: 1h 11min 47s (started: 2023-03-30 23:35:39 +09:00)\n"
     ]
    }
   ],
   "source": [
    "import numpy as np\n",
    "trained_params = est_params\n",
    "conv_filter = 'U_VQOCC'\n",
    "num_params_conv = 150\n",
    "data_encoding = 'Amplitude'\n",
    "cost_func = 'svdd'\n",
    "meaasure_basis = 'Z'\n",
    "# idx = random.sample(range(len(X_train)),100)\n",
    "\n",
    "train_result = np.asarray([QCNN_circuit.QCNN(x, trained_params, U=conv_filter, U_params=num_params_conv, \n",
    "                                                 embedding_type=data_encoding,  \n",
    "                                                 cost_fn=cost_func, measure_axis=meaasure_basis) for x in X_train])"
   ]
  },
  {
   "cell_type": "code",
   "execution_count": 191,
   "id": "bb2beab2-8b24-4b59-aaa3-6ec07653a6d8",
   "metadata": {},
   "outputs": [
    {
     "name": "stdout",
     "output_type": "stream",
     "text": [
      "time: 0 ns (started: 2023-03-31 00:47:27 +09:00)\n"
     ]
    }
   ],
   "source": [
    "center = np.mean(train_result, axis=0)\n",
    "center_train = np.tile(center, (len(X_train),1))"
   ]
  },
  {
   "cell_type": "code",
   "execution_count": 192,
   "id": "b7c81cbb-a7dd-475c-8eb7-afbe9a191d06",
   "metadata": {},
   "outputs": [
    {
     "name": "stdout",
     "output_type": "stream",
     "text": [
      "time: 0 ns (started: 2023-03-31 00:47:27 +09:00)\n"
     ]
    }
   ],
   "source": [
    "from sklearn.metrics import roc_auc_score, roc_curve, auc\n",
    "\n",
    "def radius(data, center):\n",
    "    res = []\n",
    "    for j in range(len(data)):\n",
    "        res.append(sum(abs(data - center)[j]**2))\n",
    "    return res\n",
    "        "
   ]
  },
  {
   "cell_type": "code",
   "execution_count": 193,
   "id": "200f6e32-704d-4555-a92a-267c12f09448",
   "metadata": {},
   "outputs": [
    {
     "name": "stdout",
     "output_type": "stream",
     "text": [
      "time: 16 ms (started: 2023-03-31 00:47:27 +09:00)\n"
     ]
    }
   ],
   "source": [
    "import numpy as np\n",
    "trained_params = est_params\n",
    "conv_filter = 'U_VQOCC'\n",
    "num_params_conv = 78\n",
    "data_encoding = 'Amplitude'\n",
    "cost_func = 'svdd'\n",
    "meaasure_basis = 'Z'\n",
    "radius_nor = []\n",
    "radius_ano = []\n",
    "\n",
    "\n",
    "def test(ntrain):\n",
    "    for i in range(10):\n",
    "        if i == ntrain:\n",
    "            filter = np.where(y_test == ntrain)\n",
    "            test_data = x_test[filter]\n",
    "            test_label = y_test[filter]\n",
    "\n",
    "            pred = np.asarray([QCNN_circuit.QCNN(x, trained_params, U=conv_filter, U_params=num_params_conv, \n",
    "                                                 embedding_type=data_encoding,  \n",
    "                                                 cost_fn=cost_func, measure_axis=meaasure_basis) for x in test_data])\n",
    "            pred = pred[:,latent]\n",
    "\n",
    "            for j in range(pred.shape[0]):\n",
    "                sample = pred[j,:]\n",
    "                # radius_nor.append(radius(data = sample, center = center_train)[0].numpy())\n",
    "                radius_nor.append(radius(data = sample, center = center_train)[0])\n",
    "\n",
    "        else:\n",
    "            filter = np.where(y_test == i)\n",
    "            test_data = x_test[filter]\n",
    "            idx_test = random.sample(range(len(test_data)),100)\n",
    "            test_data = test_data[idx_test]\n",
    "\n",
    "            pred = np.asarray([QCNN_circuit.QCNN(x, trained_params, U=conv_filter, U_params=num_params_conv, \n",
    "                                                 embedding_type=data_encoding, \n",
    "                                                 cost_fn=cost_func, measure_axis=meaasure_basis) for x in test_data])\n",
    "            pred = pred[:,latent]\n",
    "            \n",
    "            for j in range(pred.shape[0]):\n",
    "                sample = pred[j,:]\n",
    "                # radius_ano.append(radius(data = sample, center = center_train)[0].numpy())\n",
    "                radius_ano.append(radius(data = sample, center = center_train)[0])\n",
    "\n",
    "    y_pred_nor = radius_nor\n",
    "    y_true_nor = np.zeros(len(radius_nor), dtype=int)\n",
    "    y_pred_ano = radius_ano\n",
    "    y_true_ano = np.ones(len(radius_ano), dtype=int)\n",
    "\n",
    "    y_pred = np.concatenate((y_pred_nor,y_pred_ano),axis=None)\n",
    "    y_true = np.concatenate((y_true_nor,y_true_ano),axis=None)\n",
    "    fpr, tpr, _ = roc_curve(y_true, y_pred)\n",
    "    auc = roc_auc_score(y_true,y_pred)\n",
    "    \n",
    "    return auc, y_pred, y_true, fpr, tpr"
   ]
  },
  {
   "cell_type": "markdown",
   "id": "24246383-d548-4dbd-9646-361078f1e93e",
   "metadata": {},
   "source": [
    "## AUC"
   ]
  },
  {
   "cell_type": "code",
   "execution_count": 194,
   "id": "d391a543-4f83-400e-9b32-34a4d2ed38e1",
   "metadata": {},
   "outputs": [
    {
     "name": "stdout",
     "output_type": "stream",
     "text": [
      "time: 22min 23s (started: 2023-03-31 00:47:27 +09:00)\n"
     ]
    }
   ],
   "source": [
    "auc, y_pred, y_true, fpr, tpr = test(ntrain)"
   ]
  },
  {
   "cell_type": "code",
   "execution_count": 195,
   "id": "4adea21b-98bb-4b7c-93a9-9b1649c99823",
   "metadata": {},
   "outputs": [
    {
     "data": {
      "image/png": "[encoded data removed]",
      "text/plain": [
       "<Figure size 640x480 with 1 Axes>"
      ]
     },
     "metadata": {},
     "output_type": "display_data"
    },
    {
     "name": "stdout",
     "output_type": "stream",
     "text": [
      "time: 47 ms (started: 2023-03-31 01:09:51 +09:00)\n"
     ]
    }
   ],
   "source": [
    "plt.figure()\n",
    "lw = 2\n",
    "plt.plot(fpr, tpr, color='dodgerblue',lw=lw,label=\"{:.2f}\".format(auc * 100))\n",
    "plt.plot([0, 1], [0, 1], color=\"black\", lw=lw, linestyle=\"--\")\n",
    "plt.xlim([0.0, 1.0])\n",
    "plt.ylim([0.0, 1.0])\n",
    "plt.xlabel(\"False Positive Rate\")\n",
    "plt.ylabel(\"True Positive Rate\")\n",
    "plt.title(\"OCC0 ROC Curve\")\n",
    "plt.legend(loc=\"lower right\")\n",
    "# plt.savefig('./img/OCC0/qsvdd/OCC0_ROC_all.png')\n",
    "plt.show()"
   ]
  },
  {
   "cell_type": "code",
   "execution_count": 196,
   "id": "7593d88f-3a28-4f45-92d8-84f19def706a",
   "metadata": {},
   "outputs": [
    {
     "name": "stdout",
     "output_type": "stream",
     "text": [
      "time: 0 ns (started: 2023-03-31 01:09:51 +09:00)\n"
     ]
    }
   ],
   "source": [
    "import os\n",
    "\n",
    "def save_auc_to_file(auc, file_name):\n",
    "    auc = \"{:.2f}\".format(auc * 100)\n",
    "    directory = os.path.dirname(file_name)\n",
    "    if not os.path.exists(directory):\n",
    "        os.makedirs(directory)\n",
    "    if not os.path.exists(file_name):\n",
    "        with open(file_name, 'w') as f:\n",
    "            f.write(\"AUC Results\\n\")\n",
    "    with open(file_name, 'a') as f:\n",
    "        f.write(str(auc) + \"\\n\")\n",
    "\n",
    "# Example usage\n",
    "save_auc_to_file(auc, \"./result/auc_results0.txt\")"
   ]
  },
  {
   "cell_type": "code",
   "execution_count": 197,
   "id": "53eab083-6aaf-4378-9129-5789c3ce476f",
   "metadata": {},
   "outputs": [
    {
     "name": "stdout",
     "output_type": "stream",
     "text": [
      "77.65\n",
      "time: 0 ns (started: 2023-03-31 01:09:51 +09:00)\n"
     ]
    }
   ],
   "source": [
    "print(\"{:.2f}\".format(auc * 100))"
   ]
  }
 ],
 "metadata": {
  "colab": {
   "background_execution": "on",
   "collapsed_sections": [
    "22040aa1",
    "cd3ad8d9",
    "a0885605",
    "NnZ_rXY3KYDz",
    "ae45cef3-4eb5-4ec4-a4de-e78f0fe8a303",
    "hXuJ4SNylDhM",
    "6d382485-21f3-41ae-a0a5-9731cb0b2d11",
    "92037643-df05-4c1f-860c-a6a90813fe5c",
    "545d824f-3daf-4060-ab77-efb6757fd7b2",
    "6f3767d6-1472-419a-88a2-83a32d38c275",
    "0aaa019a-4765-44cf-b78f-00d318d86ef1",
    "70eddce2-7d62-44a4-9267-15ca34c68e14",
    "50a0036e-fd4b-43b7-a6b1-d828d7a71982",
    "b26f6fba-03ae-46f6-9f4a-6f5e0faabd16",
    "c6ffba58-7b85-454d-b106-06a6fa09eb27",
    "1a334362-c33e-403f-afde-120a6c107314",
    "dD2m4yXVaP06",
    "vYgvFjq0aP07",
    "uuB-yk-5aP08",
    "623O-BykaP08",
    "MBnOPcfUaP09",
    "wvDVe9gYaP0-",
    "bLGbhi9SaP0_",
    "32l1Yct0aP0_",
    "ygn3NGPYaP1A",
    "X6qydHROn9k4",
    "1e6f1944-b8e8-4f6f-8de4-b680d4f15d5a",
    "2914f90a"
   ],
   "machine_shape": "hm",
   "provenance": [
    {
     "file_id": "1m61t7-bffQUv9rlt5d3fdgkLOyp_cH1j",
     "timestamp": 1659232711896
    }
   ]
  },
  "gpuClass": "standard",
  "kernelspec": {
   "display_name": "Python 3 (ipykernel)",
   "language": "python",
   "name": "python3"
  },
  "language_info": {
   "codemirror_mode": {
    "name": "ipython",
    "version": 3
   },
   "file_extension": ".py",
   "mimetype": "text/x-python",
   "name": "python",
   "nbconvert_exporter": "python",
   "pygments_lexer": "ipython3",
   "version": "3.9.12"
  },
  "toc": {
   "base_numbering": 1,
   "nav_menu": {},
   "number_sections": true,
   "sideBar": true,
   "skip_h1_title": false,
   "title_cell": "Table of Contents",
   "title_sidebar": "Contents",
   "toc_cell": true,
   "toc_position": {
    "height": "calc(100% - 180px)",
    "left": "10px",
    "top": "150px",
    "width": "216.969px"
   },
   "toc_section_display": true,
   "toc_window_display": true
  },
  "vscode": {
   "interpreter": {
    "hash": "33ebf16781beddb326621678482082bfb7299678700dffe01ee98be16cda395f"
   }
  }
 },
 "nbformat": 4,
 "nbformat_minor": 5
}
