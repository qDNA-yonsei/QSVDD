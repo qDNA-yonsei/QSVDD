{
 "cells": [
  {
   "attachments": {},
   "cell_type": "markdown",
   "metadata": {},
   "source": [
    "# Preparation"
   ]
  },
  {
   "cell_type": "code",
   "execution_count": 73,
   "metadata": {},
   "outputs": [],
   "source": [
    "dataset = 'fmnist'\n",
    "ntrain = 0 ; latent_dim = 9\n",
    "steps = 500\n",
    "learning_rate = 0.001\n",
    "batch_size = 16\n"
   ]
  },
  {
   "cell_type": "code",
   "execution_count": 74,
   "metadata": {},
   "outputs": [],
   "source": [
    "import numpy as np\n",
    "import pandas as pd\n",
    "import matplotlib.pyplot as plt\n",
    "import seaborn as sns"
   ]
  },
  {
   "cell_type": "code",
   "execution_count": 75,
   "metadata": {},
   "outputs": [
    {
     "data": {
      "text/plain": [
       "'3.11.9 | packaged by Anaconda, Inc. | (main, Apr 19 2024, 16:40:41) [MSC v.1916 64 bit (AMD64)]'"
      ]
     },
     "execution_count": 75,
     "metadata": {},
     "output_type": "execute_result"
    }
   ],
   "source": [
    "import sys\n",
    "sys.version"
   ]
  },
  {
   "cell_type": "code",
   "execution_count": 76,
   "metadata": {},
   "outputs": [
    {
     "name": "stdout",
     "output_type": "stream",
     "text": [
      "x_test: (10000, 1, 16, 16)\n",
      "y_train: (60000,)\n",
      "y_test: (10000,)\n",
      "X_train: (600, 1, 16, 16)\n",
      "X_test: (190, 1, 16, 16)\n",
      "Y_train: (600,)\n",
      "Y_test: (190,)\n"
     ]
    }
   ],
   "source": [
    "import torch\n",
    "import torch.nn as nn\n",
    "import torch.nn.functional as F\n",
    "from torch.utils.data import DataLoader, TensorDataset\n",
    "from torchvision import datasets, transforms\n",
    "\n",
    "def data(ntrain, latent_dim, dataset):\n",
    "    transform = transforms.Compose([\n",
    "        transforms.Resize((16, 16)),\n",
    "        transforms.ToTensor()\n",
    "    ])\n",
    "    \n",
    "    if dataset == 'mnist':\n",
    "        train_dataset = datasets.MNIST(root='data', train=True, download=True, transform=transform)\n",
    "        test_dataset = datasets.MNIST(root='data', train=False, download=True, transform=transform)\n",
    "    elif dataset == 'fmnist':\n",
    "        train_dataset = datasets.FashionMNIST(root='data', train=True, download=True, transform=transform)\n",
    "        test_dataset = datasets.FashionMNIST(root='data', train=False, download=True, transform=transform)\n",
    "    elif dataset == 'kmnist':\n",
    "        train_dataset = datasets.KMNIST(root='data', train=True, download=True, transform=transform)\n",
    "        test_dataset = datasets.KMNIST(root='data', train=False, download=True, transform=transform)\n",
    "    \n",
    "    train_loader = DataLoader(train_dataset, batch_size=len(train_dataset))\n",
    "    test_loader = DataLoader(test_dataset, batch_size=len(test_dataset))\n",
    "    \n",
    "    x_train, y_train = next(iter(train_loader))\n",
    "    x_test, y_test = next(iter(test_loader))\n",
    "\n",
    "    x_train = x_train.numpy()\n",
    "    y_train = y_train.numpy()\n",
    "    x_test = x_test.numpy()\n",
    "    y_test = y_test.numpy()\n",
    "\n",
    "    x_train_filter = np.where(y_train == ntrain)[0]\n",
    "    sampled_train_indices = np.random.choice(x_train_filter, 600, replace=False)\n",
    "    X_train = x_train[sampled_train_indices]\n",
    "    Y_train = y_train[sampled_train_indices]\n",
    "\n",
    "    X_test = []\n",
    "    Y_test = []\n",
    "    \n",
    "    ntrain_indices = np.where(y_test == ntrain)[0]\n",
    "    sampled_ntrain_indices = np.random.choice(ntrain_indices, 100, replace=False)\n",
    "    X_test.append(x_test[sampled_ntrain_indices])\n",
    "    Y_test.append(y_test[sampled_ntrain_indices])\n",
    "    \n",
    "    for class_label in range(10):\n",
    "        if class_label != ntrain:\n",
    "            class_indices = np.where(y_test == class_label)[0]\n",
    "            sampled_indices = np.random.choice(class_indices, 10, replace=False)\n",
    "            X_test.append(x_test[sampled_indices])\n",
    "            Y_test.append(y_test[sampled_indices])\n",
    "    \n",
    "    X_test = np.concatenate(X_test)\n",
    "    Y_test = np.concatenate(Y_test)\n",
    "    \n",
    "    print('x_test:', x_test.shape)\n",
    "    print('y_train:', y_train.shape)\n",
    "    print('y_test:', y_test.shape)\n",
    "    print('X_train:', X_train.shape)\n",
    "    print('X_test:', X_test.shape)\n",
    "    print('Y_train:', Y_train.shape)\n",
    "    print('Y_test:', Y_test.shape)\n",
    "    return x_train, y_train, x_test, y_test, X_train, X_test, Y_train, Y_test\n",
    "\n",
    "x_train, y_train, x_test, y_test, X_train, X_test, Y_train, Y_test = data(ntrain, latent_dim, dataset)\n",
    "\n",
    "x_train_tensor = torch.tensor(X_train, dtype=torch.float32)\n",
    "y_train_tensor = torch.tensor(Y_train, dtype=torch.float32)\n",
    "x_test_tensor = torch.tensor(X_test, dtype=torch.float32)\n",
    "y_test_tensor = torch.tensor(Y_test, dtype=torch.float32)\n",
    "\n",
    "train_dataset = TensorDataset(x_train_tensor, y_train_tensor)\n",
    "test_dataset = TensorDataset(x_test_tensor, y_test_tensor)\n",
    "\n",
    "train_dataloader = DataLoader(train_dataset, batch_size=16, shuffle=True)\n",
    "test_dataloader = DataLoader(test_dataset, batch_size=1)"
   ]
  },
  {
   "cell_type": "code",
   "execution_count": 77,
   "metadata": {},
   "outputs": [
    {
     "name": "stdout",
     "output_type": "stream",
     "text": [
      "----------------------------------------------------------------\n",
      "        Layer (type)               Output Shape         Param #\n",
      "================================================================\n",
      "            Conv2d-1            [-1, 2, 16, 16]              10\n",
      "       BatchNorm2d-2            [-1, 2, 16, 16]               4\n",
      "         MaxPool2d-3              [-1, 2, 8, 8]               0\n",
      "            Conv2d-4              [-1, 2, 8, 8]              18\n",
      "       BatchNorm2d-5              [-1, 2, 8, 8]               4\n",
      "         MaxPool2d-6              [-1, 2, 4, 4]               0\n",
      "            Conv2d-7              [-1, 1, 4, 4]               9\n",
      "       BatchNorm2d-8              [-1, 1, 4, 4]               2\n",
      "         MaxPool2d-9              [-1, 1, 2, 2]               0\n",
      "           Linear-10                    [-1, 9]              45\n",
      "================================================================\n",
      "Total params: 92\n",
      "Trainable params: 92\n",
      "Non-trainable params: 0\n",
      "----------------------------------------------------------------\n",
      "Input size (MB): 0.00\n",
      "Forward/backward pass size (MB): 0.01\n",
      "Params size (MB): 0.00\n",
      "Estimated Total Size (MB): 0.01\n",
      "----------------------------------------------------------------\n",
      "Step: 0 | Loss: 2.148054\n",
      "Step: 10 | Loss: 1.606947\n",
      "Step: 20 | Loss: 1.151589\n",
      "Step: 30 | Loss: 0.981478\n",
      "Step: 40 | Loss: 0.749966\n",
      "Step: 50 | Loss: 0.672631\n",
      "Step: 60 | Loss: 0.451751\n",
      "Step: 70 | Loss: 0.415163\n",
      "Step: 80 | Loss: 0.445110\n",
      "Step: 90 | Loss: 0.414280\n",
      "Step: 100 | Loss: 0.355666\n",
      "Step: 110 | Loss: 0.213671\n",
      "Step: 120 | Loss: 0.207901\n",
      "Step: 130 | Loss: 0.156080\n",
      "Step: 140 | Loss: 0.195018\n",
      "Step: 150 | Loss: 0.137257\n",
      "Step: 160 | Loss: 0.133595\n",
      "Step: 170 | Loss: 0.267536\n",
      "Step: 180 | Loss: 0.127499\n",
      "Step: 190 | Loss: 0.109552\n",
      "Step: 200 | Loss: 0.114114\n",
      "Step: 210 | Loss: 0.134869\n",
      "Step: 220 | Loss: 0.090718\n",
      "Step: 230 | Loss: 0.091054\n",
      "Step: 240 | Loss: 0.097887\n",
      "Step: 250 | Loss: 0.057409\n",
      "Step: 260 | Loss: 0.068972\n",
      "Step: 270 | Loss: 0.085462\n",
      "Step: 280 | Loss: 0.078167\n",
      "Step: 290 | Loss: 0.051057\n",
      "Step: 300 | Loss: 0.072922\n",
      "Step: 310 | Loss: 0.072808\n",
      "Step: 320 | Loss: 0.106146\n",
      "Step: 330 | Loss: 0.089191\n",
      "Step: 340 | Loss: 0.067918\n",
      "Step: 350 | Loss: 0.067532\n",
      "Step: 360 | Loss: 0.052611\n",
      "Step: 370 | Loss: 0.059650\n",
      "Step: 380 | Loss: 0.060636\n",
      "Step: 390 | Loss: 0.045657\n",
      "Step: 400 | Loss: 0.041057\n",
      "Step: 410 | Loss: 0.038587\n",
      "Step: 420 | Loss: 0.057776\n",
      "Step: 430 | Loss: 0.116404\n",
      "Step: 440 | Loss: 0.046992\n",
      "Step: 450 | Loss: 0.042826\n",
      "Step: 460 | Loss: 0.045222\n",
      "Step: 470 | Loss: 0.031911\n",
      "Step: 480 | Loss: 0.042880\n",
      "Step: 490 | Loss: 0.134564\n"
     ]
    }
   ],
   "source": [
    "\n",
    "from torchsummary import summary\n",
    "import numpy as np\n",
    "from sklearn.metrics import roc_curve, roc_auc_score\n",
    "import os\n",
    "\n",
    "class SVDD(nn.Module):\n",
    "    def __init__(self, latent_dim, num_filters=2):\n",
    "        super(SVDD, self).__init__()\n",
    "        self.num_filters = num_filters\n",
    "        self.latent_dim = latent_dim\n",
    "        self.conv1 = nn.Conv2d(in_channels=1, out_channels=self.num_filters, kernel_size=2, stride=1, padding='same')\n",
    "        self.bn1 = nn.BatchNorm2d(num_features=self.num_filters)\n",
    "        self.pool = nn.MaxPool2d(kernel_size=2, stride=2)\n",
    "        self.conv2 = nn.Conv2d(in_channels=self.num_filters, out_channels=self.num_filters, kernel_size=2, stride=1, padding='same')\n",
    "        self.bn2 = nn.BatchNorm2d(num_features=self.num_filters)\n",
    "        self.conv3 = nn.Conv2d(in_channels=self.num_filters, out_channels=1, kernel_size=2, stride=1, padding='same')\n",
    "        self.bn3 = nn.BatchNorm2d(num_features=1)\n",
    "        self.fc1 = nn.Linear(1 * 2 * 2, self.latent_dim)\n",
    "\n",
    "    def forward(self, x):\n",
    "        x = self.pool(F.relu(self.bn1(self.conv1(x))))\n",
    "        x = self.pool(F.relu(self.bn2(self.conv2(x))))\n",
    "        x = self.pool(F.relu(self.bn3(self.conv3(x))))\n",
    "        x = x.view(-1, 1 * 2 * 2)\n",
    "        x = self.fc1(x)\n",
    "        return x\n",
    "\n",
    "svdd = SVDD(latent_dim=latent_dim)\n",
    "svdd = svdd.cuda()\n",
    "summary(svdd, (1, 16, 16))\n",
    "\n",
    "weight_decay = 0.001\n",
    "optimizer = torch.optim.Adam(svdd.parameters(), lr=learning_rate, weight_decay=weight_decay)\n",
    "loss_history = []\n",
    "\n",
    "c = None\n",
    "\n",
    "def initialize_center_c(dataloader, model):\n",
    "    model.eval()\n",
    "    with torch.no_grad():\n",
    "        n_samples = 0\n",
    "        center = torch.zeros(model.latent_dim, device=next(model.parameters()).device)\n",
    "        for data in dataloader:\n",
    "            inputs, _ = data\n",
    "            inputs = inputs.cuda()  \n",
    "            outputs = model(inputs)\n",
    "            center += torch.sum(outputs, dim=0)\n",
    "            center /= outputs.shape[0]\n",
    "            break\n",
    "    model.train()\n",
    "    return center\n",
    "\n",
    "def train(num_steps):\n",
    "    global c\n",
    "    for step in range(num_steps):\n",
    "        data = next(iter(train_dataloader))\n",
    "        inputs, _ = data  \n",
    "        inputs = inputs.cuda()\n",
    "        optimizer.zero_grad()\n",
    "\n",
    "\n",
    "        if c is None:\n",
    "            c = initialize_center_c(train_dataloader, svdd)\n",
    "\n",
    "        outputs = svdd(inputs)\n",
    "        loss = torch.mean(torch.sum((outputs - c) ** 2, dim=1))\n",
    "\n",
    "        l2_reg = torch.tensor(0., device=inputs.device)\n",
    "        for param in svdd.parameters():\n",
    "            l2_reg += torch.norm(param)\n",
    "        loss += weight_decay * l2_reg\n",
    "\n",
    "        loss.backward()\n",
    "        optimizer.step()\n",
    "\n",
    "        loss_history.append(loss.item())\n",
    "\n",
    "        if step % 10 == 0:\n",
    "            print('Step: {} | Loss: {:.6f}'.format(step, loss.data))\n",
    "\n",
    "train(num_steps=500)"
   ]
  },
  {
   "cell_type": "code",
   "execution_count": 78,
   "metadata": {},
   "outputs": [
    {
     "data": {
      "image/png": "[encoded data removed]",
      "text/plain": [
       "<Figure size 640x480 with 1 Axes>"
      ]
     },
     "metadata": {},
     "output_type": "display_data"
    }
   ],
   "source": [
    "import matplotlib.pyplot as plt\n",
    "import numpy as np\n",
    "from datetime import datetime\n",
    "import os\n",
    "\n",
    "timestamp = datetime.now().strftime(\"%Y%m%d_%H%M%S\")\n",
    "loss_image_path = f'./records/loss_{timestamp}.png'\n",
    "\n",
    "plt.style.use('default')\n",
    "plt.plot(loss_history)\n",
    "plt.xlabel(\"Iterations\")\n",
    "plt.ylabel(\"Loss\")\n",
    "plt.title(\"Loss convergence\")\n",
    "plt.savefig(loss_image_path)\n",
    "plt.show()"
   ]
  },
  {
   "cell_type": "code",
   "execution_count": 79,
   "metadata": {},
   "outputs": [],
   "source": [
    "\n",
    "def test(model, test_dataloader, ntrain):\n",
    "    global c  \n",
    "    y_true = []\n",
    "    y_pred = []\n",
    "    model = model.cuda()\n",
    "\n",
    "    for data, labels in test_dataloader:\n",
    "        inputs = data.cuda()  \n",
    "        labels = labels.cuda()\n",
    "\n",
    "        outputs = model(inputs.float())\n",
    "        dist = torch.sum((outputs - c) ** 2, dim=1)\n",
    "\n",
    "        for label, d in zip(labels.cpu().numpy(), dist.detach().cpu().numpy()):\n",
    "            if label == ntrain:\n",
    "                y_true.append(0)\n",
    "            else:\n",
    "                y_true.append(1)\n",
    "            y_pred.append(d.item())\n",
    "\n",
    "    fpr, tpr, _ = roc_curve(y_true, y_pred)\n",
    "    auc = roc_auc_score(y_true, y_pred)\n",
    "\n",
    "    return auc, y_pred, y_true, fpr, tpr\n",
    "\n",
    "auc, y_pred, y_true, fpr, tpr = test(svdd, test_dataloader, 0)"
   ]
  },
  {
   "cell_type": "code",
   "execution_count": 80,
   "metadata": {},
   "outputs": [
    {
     "data": {
      "text/plain": [
       "(array([100.,   0.,   0.,   0.,   0.,   0.,   0.,   0.,   0.,  90.]),\n",
       " array([0. , 0.1, 0.2, 0.3, 0.4, 0.5, 0.6, 0.7, 0.8, 0.9, 1. ]),\n",
       " <BarContainer object of 10 artists>)"
      ]
     },
     "execution_count": 80,
     "metadata": {},
     "output_type": "execute_result"
    },
    {
     "data": {
      "image/png": "[encoded data removed]",
      "text/plain": [
       "<Figure size 640x480 with 1 Axes>"
      ]
     },
     "metadata": {},
     "output_type": "display_data"
    }
   ],
   "source": [
    "plt.hist(y_true)"
   ]
  },
  {
   "cell_type": "code",
   "execution_count": 81,
   "metadata": {},
   "outputs": [
    {
     "data": {
      "image/png": "[encoded data removed]",
      "text/plain": [
       "<Figure size 640x480 with 1 Axes>"
      ]
     },
     "metadata": {},
     "output_type": "display_data"
    }
   ],
   "source": [
    "import matplotlib.pyplot as plt\n",
    "import numpy as np\n",
    "from datetime import datetime\n",
    "import os\n",
    "\n",
    "timestamp = datetime.now().strftime(\"%Y%m%d_%H%M%S\")\n",
    "\n",
    "plt.figure()\n",
    "lw = 2\n",
    "plt.plot(fpr, tpr, color='dodgerblue', lw=lw, label=\"{:.2f}\".format(auc * 100))\n",
    "plt.plot([0, 1], [0, 1], color=\"black\", lw=lw, linestyle=\"--\")\n",
    "plt.xlim([0.0, 1.0])\n",
    "plt.ylim([0.0, 1.0])\n",
    "plt.xlabel(\"False Positive Rate\")\n",
    "plt.ylabel(\"True Positive Rate\")\n",
    "plt.title(\"ROC Curve\")\n",
    "plt.legend(loc=\"lower right\")\n",
    "roc_image_path = f'./records/roc_curve_{timestamp}.png'\n",
    "plt.savefig(roc_image_path)\n",
    "plt.show()\n",
    "\n",
    "def save_auc_to_file(auc, file_name):\n",
    "    auc = \"{:.2f}\".format(auc * 100)\n",
    "    directory = os.path.dirname(file_name)\n",
    "    if not os.path.exists(directory):\n",
    "        os.makedirs(directory)\n",
    "    if not os.path.exists(file_name):\n",
    "        with open(file_name, 'w') as f:\n",
    "            f.write(\"AUC Results\\n\")\n",
    "    with open(file_name, 'a') as f:\n",
    "        f.write(str(auc) + \"\\n\")\n",
    "\n",
    "auc_file_path = \"./records/auc.txt\"\n",
    "save_auc_to_file(auc, auc_file_path)\n"
   ]
  }
 ],
 "metadata": {
  "kernelspec": {
   "display_name": "qsvdd",
   "language": "python",
   "name": "python3"
  },
  "language_info": {
   "codemirror_mode": {
    "name": "ipython",
    "version": 3
   },
   "file_extension": ".py",
   "mimetype": "text/x-python",
   "name": "python",
   "nbconvert_exporter": "python",
   "pygments_lexer": "ipython3",
   "version": "3.11.9"
  }
 },
 "nbformat": 4,
 "nbformat_minor": 2
}
